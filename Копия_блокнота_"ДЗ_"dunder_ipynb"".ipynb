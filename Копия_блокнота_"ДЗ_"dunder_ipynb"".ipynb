{
  "cells": [
    {
      "cell_type": "markdown",
      "metadata": {
        "id": "view-in-github",
        "colab_type": "text"
      },
      "source": [
        "<a href=\"https://colab.research.google.com/github/Pavel-Doroshenko/test/blob/main/%D0%9A%D0%BE%D0%BF%D0%B8%D1%8F_%D0%B1%D0%BB%D0%BE%D0%BA%D0%BD%D0%BE%D1%82%D0%B0_%22%D0%94%D0%97_%22dunder_ipynb%22%22.ipynb\" target=\"_parent\"><img src=\"https://colab.research.google.com/assets/colab-badge.svg\" alt=\"Open In Colab\"/></a>"
      ]
    },
    {
      "cell_type": "markdown",
      "metadata": {
        "id": "2VUa9fWvy5zU"
      },
      "source": [
        "# Домашнее занание по теме dunder методы\n",
        "\n",
        "Необходимо реализовывать модуль distance.py. Все задания нужно выполнять в первом блоке кода. Каждое последующее задание зависит от реализации предыдущего.\n",
        "\n",
        "В модуле distance.py определенен класс `Millimeter` он является базовым классом дочерних классов `Centimeter`, `Meter`, `Inch`. Классы имеют атрибуты `label` и `ratio`, последний определяет отношение длины к базововому значению длины (базовые еденицы измерения это миллиметр). У класса `Millimeter` атрибут `ratio` равен **1** значит отношение выглядит как 1 к 1.\n",
        "\n",
        "Также в базовом классе реализован метод `as_millimeters` который возвращает значение в базовых единицах измерения.\n",
        "\n",
        "Чтобы приступить к выполнению задания, сделайте копию файла к свой Google Drive, сделать это можно строку меню выбрав пункт Файл / Сохранить копию на Диске."
      ]
    },
    {
      "cell_type": "code",
      "execution_count": 93,
      "metadata": {
        "id": "rsfo1mCZy3nA",
        "colab": {
          "base_uri": "https://localhost:8080/"
        },
        "outputId": "8a1b5f87-c811-4fa0-83c3-97cf718870d8"
      },
      "outputs": [
        {
          "output_type": "stream",
          "name": "stdout",
          "text": [
            "Overwriting distance.py\n"
          ]
        }
      ],
      "source": [
        "#@title Код модуля distance.py\n",
        "\n",
        "%%file distance.py\n",
        "\n",
        "from functools import total_ordering\n",
        "from typing import Any\n",
        "\n",
        "@total_ordering\n",
        "class Millimeter:\n",
        "    label = 'мм'\n",
        "    ratio = 1 # Отношение определяемой еденицы измерения к миллиметрам\n",
        "\n",
        "    def __init__(self, value) -> None:\n",
        "        self.ratio = 1\n",
        "        self._value =float(value)\n",
        "\n",
        "\n",
        "    def as_millimeters(self) -> float:\n",
        "        \"\"\"Возвращает значение длины в миллиметах.\n",
        "\n",
        "        :rtype: float\n",
        "        :return: Значение округленное до 5 знаков после запятой\n",
        "        \"\"\"\n",
        "        return round(self._value * self.ratio, 5)\n",
        "\n",
        "\n",
        "    def __repr__(self):\n",
        "      return 'Millimeter(value={})'.format(self._value)\n",
        "\n",
        "    def __float__(self):\n",
        "       self._value = self.as_millimeters()# / self.ratio\n",
        "       return float(self._value)\n",
        "\n",
        "    def __int__(self):\n",
        "       self._value = self.as_millimeters()\n",
        "       return int(self._value)\n",
        "\n",
        "    def __add__(self, other):\n",
        "       #self.value = self.as_millimeters() / self.ratio\n",
        "       other = other.as_millimeters()/self.ratio\n",
        "       return Meter(self._value + other)\n",
        "\n",
        "    def __sub__(self, other):\n",
        "       #self.value = self.as_millimeters() / self.ratio\n",
        "       other = other.as_millimeters()/self.ratio\n",
        "       return Inch(self._value - other)\n",
        "\n",
        "    def __mul__(self, other):\n",
        "       #self.value = self.as_millimeters() / self.ratio\n",
        "       other = other.as_millimeters() *10 /self.ratio\n",
        "       return Centimeter(self._value * other)\n",
        "\n",
        "    def __truediv__(self, other):\n",
        "      # self.value = self.as_millimeters() / self.ratio\n",
        "       other = other.as_millimeters()/self.ratio\n",
        "       return Millimeter(self._value / other)\n",
        "\n",
        "    def __hash__(self):\n",
        "       return hash(self.as_millimeters())\n",
        "\n",
        "    def __eq__(self, other):\n",
        "       self._value = self.as_millimeters()/self.ratio\n",
        "       other = other.as_millimeters()/self.ratio\n",
        "       return hash(self._value) == hash(other)\n",
        "\n",
        "    def __le__(self, other):\n",
        "       #self._value = self.as_millimeters()/self.ratio\n",
        "       other = other.as_millimeters()/self.ratio\n",
        "       return self._value <= other\n",
        "\n",
        "\n",
        "class Centimeter(Millimeter):\n",
        "    label = 'см'\n",
        "    ratio = 10\n",
        "\n",
        "    def __init__(self, value):\n",
        "      self.ratio = 10\n",
        "      self._value = float(value)# / self.ratio\n",
        "\n",
        "\n",
        "\n",
        "class Meter(Millimeter):\n",
        "    label = 'метр'\n",
        "    ratio = 1000\n",
        "\n",
        "    def __init__(self, value):\n",
        "      self.ratio = 1000\n",
        "      self._value = float(value)# / self.ratio\n",
        "\n",
        "class Inch(Millimeter):\n",
        "    label = 'дюйм'\n",
        "    ratio = 25.4\n",
        "\n",
        "    def __init__(self, value):\n",
        "      self.ratio = 25.4\n",
        "      self._value = float(value)# / self.ratio\n",
        "\n",
        "    def __repr__(self):\n",
        "      return 'Inch(value={})'.format(self._value)\n"
      ]
    },
    {
      "cell_type": "markdown",
      "metadata": {
        "id": "Gz3Vt9YG1tuW"
      },
      "source": [
        "## Задание 1\n",
        "\n",
        "### Инициализация\n",
        "\n",
        "Установите значения атрибута `ratio` в определении классов `Centimeter`, `Meter` и `Inch`. Например, для класса `Inch` значение атрибута `ratio` будет равно **25.4**.\n",
        "\n",
        "Дополните опредиление dunder метод `__init__`. Метод принимает один аргумент `value` любого типа (`int`, `float`, `Millimeter`, `Centimeter` и т.д.). Если значение агрумента `value` соответствует типам `int` тогда необходимо преобразовать значение к типу `float` и присвоить результат атрибуту `self._value`. Во всех остальных случаях нужно конвертировать значение. Чтобы выполнить конвертацию нужно вызвать метод `value.as_millimeters` и разделить значение на `self.ratio`, преобразовать в тип `float`, а результат присвоить атрибуту `self._value`.\n",
        "\n",
        "### Тестирование\n",
        "\n",
        "1. [Запустите код в ячейке](#scrollTo=rsfo1mCZy3nA&line=1&uniqifier=1)\n",
        "\n",
        "2. [Запустите код в ячейке](#scrollTo=WyeP9yl87HM1&line=1&uniqifier=1)\n",
        "\n",
        "3. [Запустите тестирование](#scrollTo=7Osjaz3E_KF2&line=1&uniqifier=1)\n",
        "\n",
        "Завершение тестов без ошибок свидетельствует о корректном выполнении задания, и вы можете приступать к выполнению следующего!"
      ]
    },
    {
      "cell_type": "code",
      "execution_count": 70,
      "metadata": {
        "id": "WyeP9yl87HM1",
        "colab": {
          "base_uri": "https://localhost:8080/"
        },
        "outputId": "449e2c19-57dc-4498-f0c4-dfe5abc5c2d1"
      },
      "outputs": [
        {
          "output_type": "stream",
          "name": "stdout",
          "text": [
            "Overwriting tests_point_1.py\n"
          ]
        }
      ],
      "source": [
        "%%file tests_point_1.py\n",
        "\n",
        "from distance import Millimeter, Centimeter, Meter, Inch\n",
        "\n",
        "conversion_err = 'Неверный результат конвертации'\n",
        "\n",
        "def test_value_type():\n",
        "    instance = Millimeter(Meter(13))\n",
        "    assert isinstance(instance._value, float), 'Неверный тип атрибута _value'\n",
        "\n",
        "def test_init_millimeter():\n",
        "    instance = Millimeter(84.33)\n",
        "    assert instance.as_millimeters() == 84.33, 'Неверное значение атрибута _value'\n",
        "\n",
        "def test_convert_millimeters_to_meters():\n",
        "    assert Millimeter(Meter(99.62)).as_millimeters() == 99.62, conversion_err\n",
        "\n",
        "def test_convert_centimeters_to_meters():\n",
        "    assert Centimeter(Meter(61.3)).as_millimeters() == 613, conversion_err\n",
        "\n",
        "def test_convert_inches_to_meters():\n",
        "    assert Inch(Meter(47.04)).as_millimeters() == 1194.816, conversion_err\n",
        "\n",
        "def test_convert_millimeters_to_inches():\n",
        "    assert Millimeter(Inch(26.91)).as_millimeters() == 26.91, conversion_err\n",
        "\n",
        "def test_convert_centimeters_to_inches():\n",
        "    assert Centimeter(Inch(14.27)).as_millimeters() == 142.7, conversion_err\n",
        "\n",
        "def test_convert_meters_to_inches():\n",
        "    assert Meter(Inch(20.58)).as_millimeters() == 20580, conversion_err\n"
      ]
    },
    {
      "cell_type": "code",
      "source": [],
      "metadata": {
        "id": "mhHyhG1_iMIz"
      },
      "execution_count": null,
      "outputs": []
    },
    {
      "cell_type": "code",
      "source": [],
      "metadata": {
        "id": "X5X89s6piMol"
      },
      "execution_count": 13,
      "outputs": []
    },
    {
      "cell_type": "code",
      "execution_count": 92,
      "metadata": {
        "id": "7Osjaz3E_KF2",
        "colab": {
          "base_uri": "https://localhost:8080/"
        },
        "outputId": "e92ab82f-fb6a-4034-9d16-32da5434a0d0"
      },
      "outputs": [
        {
          "output_type": "stream",
          "name": "stdout",
          "text": [
            "\u001b[1m======================================= test session starts ========================================\u001b[0m\n",
            "platform linux -- Python 3.11.11, pytest-8.3.4, pluggy-1.5.0 -- /usr/bin/python3\n",
            "cachedir: .pytest_cache\n",
            "rootdir: /content\n",
            "plugins: langsmith-0.3.1, typeguard-4.4.1, anyio-3.7.1\n",
            "\u001b[1mcollecting ... \u001b[0m\u001b[1m\rcollected 8 items                                                                                  \u001b[0m\n",
            "\n",
            "tests_point_1.py::test_value_type \u001b[32mPASSED\u001b[0m\n",
            "tests_point_1.py::test_init_millimeter \u001b[32mPASSED\u001b[0m\n",
            "tests_point_1.py::test_convert_millimeters_to_meters \u001b[32mPASSED\u001b[0m\n",
            "tests_point_1.py::test_convert_centimeters_to_meters \u001b[32mPASSED\u001b[0m\n",
            "tests_point_1.py::test_convert_inches_to_meters \u001b[32mPASSED\u001b[0m\n",
            "tests_point_1.py::test_convert_millimeters_to_inches \u001b[32mPASSED\u001b[0m\n",
            "tests_point_1.py::test_convert_centimeters_to_inches \u001b[32mPASSED\u001b[0m\n",
            "tests_point_1.py::test_convert_meters_to_inches \u001b[32mPASSED\u001b[0m\n",
            "\n",
            "\u001b[32m======================================== \u001b[32m\u001b[1m8 passed\u001b[0m\u001b[32m in 0.02s\u001b[0m\u001b[32m =========================================\u001b[0m\n"
          ]
        }
      ],
      "source": [
        "!python -m pytest -vs tests_point_1.py"
      ]
    },
    {
      "cell_type": "markdown",
      "metadata": {
        "id": "5vIf0XiK4gy-"
      },
      "source": [
        "## Задание 2\n",
        "\n",
        "### Представление объекта\n",
        "\n",
        "Реализуйте метод `__repr__`. Помните, что результат вызова функции `repr` по возможности должно возвращать корректное python выражение.\n",
        "\n",
        "### Тестирование\n",
        "\n",
        "1. [Запустите код в ячейке](#scrollTo=rsfo1mCZy3nA&line=1&uniqifier=1)\n",
        "\n",
        "2. [Запустите код в ячейке](#scrollTo=ADceY17n482m&line=1&uniqifier=1)\n",
        "\n",
        "3. [Запустите тестирование](#scrollTo=m5IM5tSM5V1g&line=1&uniqifier=1)\n",
        "\n",
        "Завершение тестов без ошибок свидетельствует о корректном выполнении задания, и вы можете приступать к выполнению следующего!"
      ]
    },
    {
      "cell_type": "code",
      "execution_count": 72,
      "metadata": {
        "id": "ADceY17n482m",
        "colab": {
          "base_uri": "https://localhost:8080/"
        },
        "outputId": "e80e947d-fd7b-45f7-ed9b-96cd84b5a6bc"
      },
      "outputs": [
        {
          "output_type": "stream",
          "name": "stdout",
          "text": [
            "Overwriting tests_point_2.py\n"
          ]
        }
      ],
      "source": [
        "%%file tests_point_2.py\n",
        "\n",
        "from distance import Millimeter, Centimeter, Meter, Inch\n",
        "\n",
        "def test_repr_method():\n",
        "    instance = Inch(9.2332)\n",
        "    assert repr(instance) in ['Inch(value=9.2332)', 'Inch(9.2332)'], 'Метод __repr__ представляет некорректную или недостаточно информации об объекте'\n"
      ]
    },
    {
      "cell_type": "code",
      "execution_count": 84,
      "metadata": {
        "id": "m5IM5tSM5V1g",
        "colab": {
          "base_uri": "https://localhost:8080/"
        },
        "outputId": "3dc9a2e9-bb99-4dda-e90e-7a8f4ed2ca38"
      },
      "outputs": [
        {
          "output_type": "stream",
          "name": "stdout",
          "text": [
            "\u001b[1m======================================= test session starts ========================================\u001b[0m\n",
            "platform linux -- Python 3.11.11, pytest-8.3.4, pluggy-1.5.0 -- /usr/bin/python3\n",
            "cachedir: .pytest_cache\n",
            "rootdir: /content\n",
            "plugins: langsmith-0.3.1, typeguard-4.4.1, anyio-3.7.1\n",
            "\u001b[1mcollecting ... \u001b[0m\u001b[1m\rcollected 1 item                                                                                   \u001b[0m\n",
            "\n",
            "tests_point_2.py::test_repr_method \u001b[32mPASSED\u001b[0m\n",
            "\n",
            "\u001b[32m======================================== \u001b[32m\u001b[1m1 passed\u001b[0m\u001b[32m in 0.01s\u001b[0m\u001b[32m =========================================\u001b[0m\n"
          ]
        }
      ],
      "source": [
        "!python -m pytest -vs tests_point_2.py"
      ]
    },
    {
      "cell_type": "markdown",
      "metadata": {
        "id": "WzaXSbRRjudX"
      },
      "source": [
        "## Задание 3\n",
        "\n",
        "### Арифметические операции\n",
        "\n",
        "Реализуйте методы `__add__`, `__sub__`, `__mul__` и `__truediv__`. Данные методы должны возвращать новый объект того же типа, что и класс у которого вызывается данный метод, то есть `type(self)`. Методы реализуются с помощью выполнения арифметических оппераций над результатами вызваных у операндов методов `as_millimeters` разделенных на значение атрибута `self.ratio`, то есть значение атрибута левого операнда.\n",
        "\n",
        "### Тестирование\n",
        "\n",
        "1. [Запустите код в ячейке](#scrollTo=rsfo1mCZy3nA&line=1&uniqifier=1)\n",
        "\n",
        "2. [Запустите код в ячейке](#scrollTo=cvnLjXg7lOAO&line=1&uniqifier=1)\n",
        "\n",
        "3. [Запустите тестирование](#scrollTo=Pdel9IHulUWA&line=1&uniqifier=1)\n",
        "\n",
        "Завершение тестов без ошибок свидетельствует о корректном выполнении задания, и вы можете приступать к выполнению следующего!"
      ]
    },
    {
      "cell_type": "code",
      "execution_count": 74,
      "metadata": {
        "id": "cvnLjXg7lOAO",
        "colab": {
          "base_uri": "https://localhost:8080/"
        },
        "outputId": "aee90fa2-2947-45e5-fccc-683c1f96b0fe"
      },
      "outputs": [
        {
          "output_type": "stream",
          "name": "stdout",
          "text": [
            "Overwriting tests_point_3.py\n"
          ]
        }
      ],
      "source": [
        "%%file tests_point_3.py\n",
        "\n",
        "from distance import Millimeter, Centimeter, Meter, Inch\n",
        "\n",
        "def test_add_method():\n",
        "    left = Meter(9.2)\n",
        "    right = Inch(9.2)\n",
        "    assert (left + right).as_millimeters() == 9433.68, 'Метод __add__ реализован не корректно'\n",
        "\n",
        "def test_sub_method():\n",
        "    left = Inch(86.44)\n",
        "    right = Millimeter(94.78)\n",
        "    assert (left - right).as_millimeters() == 2100.796, 'Метод __sub__ реализован не корректно'\n",
        "\n",
        "def test_mul_method():\n",
        "    left = Centimeter(94.95)\n",
        "    right = Millimeter(10.8)\n",
        "    assert (left * right).as_millimeters() == 10254.6, 'Метод __mul__ реализован не корректно'\n",
        "\n",
        "def test_truediv_method():\n",
        "    left = Meter(38.07)\n",
        "    right = Millimeter(44.74)\n",
        "    assert (left / right).as_millimeters() == 850.91641, 'Метод __mul__ реализован не корректно'\n"
      ]
    },
    {
      "cell_type": "code",
      "execution_count": 85,
      "metadata": {
        "id": "Pdel9IHulUWA",
        "colab": {
          "base_uri": "https://localhost:8080/"
        },
        "outputId": "4ab99f5a-4727-4a8e-cb26-fdd50ba94589"
      },
      "outputs": [
        {
          "output_type": "stream",
          "name": "stdout",
          "text": [
            "\u001b[1m======================================= test session starts ========================================\u001b[0m\n",
            "platform linux -- Python 3.11.11, pytest-8.3.4, pluggy-1.5.0 -- /usr/bin/python3\n",
            "cachedir: .pytest_cache\n",
            "rootdir: /content\n",
            "plugins: langsmith-0.3.1, typeguard-4.4.1, anyio-3.7.1\n",
            "\u001b[1mcollecting ... \u001b[0m\u001b[1m\rcollected 4 items                                                                                  \u001b[0m\n",
            "\n",
            "tests_point_3.py::test_add_method \u001b[32mPASSED\u001b[0m\n",
            "tests_point_3.py::test_sub_method \u001b[32mPASSED\u001b[0m\n",
            "tests_point_3.py::test_mul_method \u001b[32mPASSED\u001b[0m\n",
            "tests_point_3.py::test_truediv_method \u001b[32mPASSED\u001b[0m\n",
            "\n",
            "\u001b[32m======================================== \u001b[32m\u001b[1m4 passed\u001b[0m\u001b[32m in 0.01s\u001b[0m\u001b[32m =========================================\u001b[0m\n"
          ]
        }
      ],
      "source": [
        "!python -m pytest -vs tests_point_3.py"
      ]
    },
    {
      "cell_type": "markdown",
      "metadata": {
        "id": "5rS7zWDVgr82"
      },
      "source": [
        "## Задание 4\n",
        "\n",
        "### Сравнение объектов\n",
        "\n",
        "Для сравнения объектов реализуйте методы сравнения `__eq__`, `__le__` и метод `__hash__`, а также оберните класс `Millimeter` в декоратор `total_ordering`. Метод `__hash__` нужно реализовать вызовом метода функции `hash` над результатом вызова метода `self.as_millimeters`. Сравнение объектов методом `__eq__` реализуется с помощью сравнения хеш функций операндов. Реализация метода `__le__` подразумевает сравнение оператором результатов вызова метода `as_millimeters` у сравниваемых объектов.\n",
        "\n",
        "### Тестирование\n",
        "\n",
        "Завершение тестов без ошибок свидетельствует о корректном выполнении задания, и вы можете приступать к выполнению следующего!\n",
        "\n",
        "1. [Запустите код в ячейке](#scrollTo=rsfo1mCZy3nA&line=1&uniqifier=1)\n",
        "\n",
        "2. [Запустите код в ячейке](#scrollTo=u0Kd3iYdhT62&line=1&uniqifier=1)\n",
        "\n",
        "3. [Запустите тестирование](#scrollTo=BAZXZJxBip6J&line=1&uniqifier=1)"
      ]
    },
    {
      "cell_type": "code",
      "execution_count": 78,
      "metadata": {
        "id": "u0Kd3iYdhT62",
        "colab": {
          "base_uri": "https://localhost:8080/"
        },
        "outputId": "dc1e342c-52f3-47ca-8f63-fc6285990a3f"
      },
      "outputs": [
        {
          "output_type": "stream",
          "name": "stdout",
          "text": [
            "Overwriting tests_point_4.py\n"
          ]
        }
      ],
      "source": [
        "%%file tests_point_4.py\n",
        "\n",
        "from distance import Millimeter, Centimeter, Meter, Inch\n",
        "\n",
        "def test_hash_method():\n",
        "    instance = Meter(20.64)\n",
        "    assert hash(instance) == hash(20640)\n",
        "\n",
        "def test_eq_method():\n",
        "    left = Millimeter(20.64)\n",
        "    right = Meter(0.02064)\n",
        "    assert left == right, 'Неверный результат сравнения'\n",
        "\n",
        "def test_lt_method():\n",
        "    left = Millimeter(74.0)\n",
        "    right = Meter(0.075)\n",
        "    assert left < right, 'Неверный результат сравнения'\n",
        "\n",
        "def test_ge_method():\n",
        "    left = Meter(57.97)\n",
        "    assert not (left.__ge__(left) is NotImplemented), 'Метод __ge__ не реализован'\n"
      ]
    },
    {
      "cell_type": "code",
      "execution_count": 88,
      "metadata": {
        "id": "BAZXZJxBip6J",
        "colab": {
          "base_uri": "https://localhost:8080/"
        },
        "outputId": "bd1bea00-6dcd-4133-973b-d39ced25b5d4"
      },
      "outputs": [
        {
          "output_type": "stream",
          "name": "stdout",
          "text": [
            "\u001b[1m======================================= test session starts ========================================\u001b[0m\n",
            "platform linux -- Python 3.11.11, pytest-8.3.4, pluggy-1.5.0 -- /usr/bin/python3\n",
            "cachedir: .pytest_cache\n",
            "rootdir: /content\n",
            "plugins: langsmith-0.3.1, typeguard-4.4.1, anyio-3.7.1\n",
            "\u001b[1mcollecting ... \u001b[0m\u001b[1m\rcollected 4 items                                                                                  \u001b[0m\n",
            "\n",
            "tests_point_4.py::test_hash_method \u001b[32mPASSED\u001b[0m\n",
            "tests_point_4.py::test_eq_method \u001b[32mPASSED\u001b[0m\n",
            "tests_point_4.py::test_lt_method \u001b[32mPASSED\u001b[0m\n",
            "tests_point_4.py::test_ge_method \u001b[32mPASSED\u001b[0m\n",
            "\n",
            "\u001b[32m======================================== \u001b[32m\u001b[1m4 passed\u001b[0m\u001b[32m in 0.01s\u001b[0m\u001b[32m =========================================\u001b[0m\n"
          ]
        }
      ],
      "source": [
        "!python -m pytest -vs tests_point_4.py"
      ]
    },
    {
      "cell_type": "markdown",
      "metadata": {
        "id": "GwSlMsUl7qUG"
      },
      "source": [
        "## Задание 5\n",
        "\n",
        "### Преобразование объектов\n",
        "\n",
        "Реализайте методы `__int__` `__float__`, результат методов должен представлять из себя расстояние в миллиметрах преобразование к соответствующему типу.\n",
        "\n",
        "### Тестирование\n",
        "\n",
        "Завершение тестов без ошибок свидетельствует о корректном выполнении задания, и вы можете приступать к выполнению следующего!\n",
        "\n",
        "1. [Запустите код в ячейке](#scrollTo=rsfo1mCZy3nA&line=1&uniqifier=1)\n",
        "\n",
        "2. [Запустите код в ячейке](#scrollTo=i36lqpaB8VII&line=1&uniqifier=1)\n",
        "\n",
        "3. [Запустите тестирование](#scrollTo=aCQHFFmW8sAj&line=1&uniqifier=1)"
      ]
    },
    {
      "cell_type": "code",
      "execution_count": 80,
      "metadata": {
        "id": "i36lqpaB8VII",
        "colab": {
          "base_uri": "https://localhost:8080/"
        },
        "outputId": "9434d274-ab46-4f05-82b4-98179b3381cf"
      },
      "outputs": [
        {
          "output_type": "stream",
          "name": "stdout",
          "text": [
            "Overwriting tests_point_5.py\n"
          ]
        }
      ],
      "source": [
        "%%file tests_point_5.py\n",
        "\n",
        "from distance import Millimeter, Centimeter, Meter, Inch\n",
        "\n",
        "import random\n",
        "\n",
        "def test_int_value_method():\n",
        "    value = random.random()\n",
        "    instance = Meter(value)\n",
        "    assert int(instance) == int(value * 1000)\n",
        "\n",
        "def test_int_type_method():\n",
        "    instance = Meter(36.94)\n",
        "    assert type(int(instance)) is int\n",
        "\n",
        "def test_float_value_method():\n",
        "    value = random.random()\n",
        "    instance = Inch(value)\n",
        "    assert float(instance) == float(round(value * 25.4, 5))\n",
        "\n",
        "def test_int_type_method():\n",
        "    instance = Inch(43.63)\n",
        "    assert type(float(instance)) is float\n"
      ]
    },
    {
      "cell_type": "code",
      "execution_count": 94,
      "metadata": {
        "id": "aCQHFFmW8sAj",
        "colab": {
          "base_uri": "https://localhost:8080/"
        },
        "outputId": "349c54ea-fc52-43a5-fefb-4e92231acaa5"
      },
      "outputs": [
        {
          "output_type": "stream",
          "name": "stdout",
          "text": [
            "\u001b[1m======================================= test session starts ========================================\u001b[0m\n",
            "platform linux -- Python 3.11.11, pytest-8.3.4, pluggy-1.5.0 -- /usr/bin/python3\n",
            "cachedir: .pytest_cache\n",
            "rootdir: /content\n",
            "plugins: langsmith-0.3.1, typeguard-4.4.1, anyio-3.7.1\n",
            "\u001b[1mcollecting ... \u001b[0m\u001b[1m\rcollected 3 items                                                                                  \u001b[0m\n",
            "\n",
            "tests_point_5.py::test_int_value_method \u001b[32mPASSED\u001b[0m\n",
            "tests_point_5.py::test_int_type_method \u001b[32mPASSED\u001b[0m\n",
            "tests_point_5.py::test_float_value_method \u001b[32mPASSED\u001b[0m\n",
            "\n",
            "\u001b[32m======================================== \u001b[32m\u001b[1m3 passed\u001b[0m\u001b[32m in 0.01s\u001b[0m\u001b[32m =========================================\u001b[0m\n"
          ]
        }
      ],
      "source": [
        "!python -m pytest -vs tests_point_5.py"
      ]
    },
    {
      "cell_type": "markdown",
      "metadata": {
        "id": "4jHUQuL698ul"
      },
      "source": [
        "## Финальное тестирование\n",
        "Завершение тестов без ошибок свидетельствует о корректном выполнении всех заданий!\n",
        "\n",
        "1. [Запустите код в ячейке](#scrollTo=rsfo1mCZy3nA&line=1&uniqifier=1)\n",
        "\n",
        "2. [Запустите тестирование](#scrollTo=On0t_YEp9vJA&line=1&uniqifier=1)"
      ]
    },
    {
      "cell_type": "code",
      "execution_count": 95,
      "metadata": {
        "id": "On0t_YEp9vJA",
        "colab": {
          "base_uri": "https://localhost:8080/"
        },
        "outputId": "ed2b2f27-6ffe-410a-b9cc-849278fb427a"
      },
      "outputs": [
        {
          "output_type": "stream",
          "name": "stdout",
          "text": [
            "\u001b[1m======================================= test session starts ========================================\u001b[0m\n",
            "platform linux -- Python 3.11.11, pytest-8.3.4, pluggy-1.5.0 -- /usr/bin/python3\n",
            "cachedir: .pytest_cache\n",
            "rootdir: /content\n",
            "plugins: langsmith-0.3.1, typeguard-4.4.1, anyio-3.7.1\n",
            "\u001b[1mcollecting ... \u001b[0m\u001b[1m\rcollected 20 items                                                                                 \u001b[0m\n",
            "\n",
            "tests_point_1.py::test_value_type \u001b[32mPASSED\u001b[0m\n",
            "tests_point_1.py::test_init_millimeter \u001b[32mPASSED\u001b[0m\n",
            "tests_point_1.py::test_convert_millimeters_to_meters \u001b[31mFAILED\u001b[0m\n",
            "tests_point_1.py::test_convert_centimeters_to_meters \u001b[31mFAILED\u001b[0m\n",
            "tests_point_1.py::test_convert_inches_to_meters \u001b[31mFAILED\u001b[0m\n",
            "tests_point_1.py::test_convert_millimeters_to_inches \u001b[31mFAILED\u001b[0m\n",
            "tests_point_1.py::test_convert_centimeters_to_inches \u001b[31mFAILED\u001b[0m\n",
            "tests_point_1.py::test_convert_meters_to_inches \u001b[31mFAILED\u001b[0m\n",
            "tests_point_2.py::test_repr_method \u001b[32mPASSED\u001b[0m\n",
            "tests_point_3.py::test_add_method \u001b[32mPASSED\u001b[0m\n",
            "tests_point_3.py::test_sub_method \u001b[32mPASSED\u001b[0m\n",
            "tests_point_3.py::test_mul_method \u001b[32mPASSED\u001b[0m\n",
            "tests_point_3.py::test_truediv_method \u001b[32mPASSED\u001b[0m\n",
            "tests_point_4.py::test_hash_method \u001b[32mPASSED\u001b[0m\n",
            "tests_point_4.py::test_eq_method \u001b[32mPASSED\u001b[0m\n",
            "tests_point_4.py::test_lt_method \u001b[32mPASSED\u001b[0m\n",
            "tests_point_4.py::test_ge_method \u001b[32mPASSED\u001b[0m\n",
            "tests_point_5.py::test_int_value_method \u001b[32mPASSED\u001b[0m\n",
            "tests_point_5.py::test_int_type_method \u001b[32mPASSED\u001b[0m\n",
            "tests_point_5.py::test_float_value_method \u001b[32mPASSED\u001b[0m\n",
            "\n",
            "============================================= FAILURES =============================================\n",
            "\u001b[31m\u001b[1m________________________________ test_convert_millimeters_to_meters ________________________________\u001b[0m\n",
            "\n",
            "    \u001b[0m\u001b[94mdef\u001b[39;49;00m \u001b[92mtest_convert_millimeters_to_meters\u001b[39;49;00m():\u001b[90m\u001b[39;49;00m\n",
            ">       \u001b[94massert\u001b[39;49;00m Millimeter(Meter(\u001b[94m99.62\u001b[39;49;00m)).as_millimeters() == \u001b[94m99.62\u001b[39;49;00m, conversion_err\u001b[90m\u001b[39;49;00m\n",
            "\u001b[1m\u001b[31mE       AssertionError: Неверный результат конвертации\u001b[0m\n",
            "\u001b[1m\u001b[31mE       assert 99620.0 == 99.62\u001b[0m\n",
            "\u001b[1m\u001b[31mE        +  where 99620.0 = as_millimeters()\u001b[0m\n",
            "\u001b[1m\u001b[31mE        +    where as_millimeters = Millimeter(value=99620.0).as_millimeters\u001b[0m\n",
            "\u001b[1m\u001b[31mE        +      where Millimeter(value=99620.0) = Millimeter(Millimeter(value=99620.0))\u001b[0m\n",
            "\u001b[1m\u001b[31mE        +        where Millimeter(value=99620.0) = Meter(99.62)\u001b[0m\n",
            "\n",
            "\u001b[1m\u001b[31mtests_point_1.py\u001b[0m:15: AssertionError\n",
            "\u001b[31m\u001b[1m________________________________ test_convert_centimeters_to_meters ________________________________\u001b[0m\n",
            "\n",
            "    \u001b[0m\u001b[94mdef\u001b[39;49;00m \u001b[92mtest_convert_centimeters_to_meters\u001b[39;49;00m():\u001b[90m\u001b[39;49;00m\n",
            ">       \u001b[94massert\u001b[39;49;00m Centimeter(Meter(\u001b[94m61.3\u001b[39;49;00m)).as_millimeters() == \u001b[94m613\u001b[39;49;00m, conversion_err\u001b[90m\u001b[39;49;00m\n",
            "\u001b[1m\u001b[31mE       AssertionError: Неверный результат конвертации\u001b[0m\n",
            "\u001b[1m\u001b[31mE       assert 613000.0 == 613\u001b[0m\n",
            "\u001b[1m\u001b[31mE        +  where 613000.0 = as_millimeters()\u001b[0m\n",
            "\u001b[1m\u001b[31mE        +    where as_millimeters = Millimeter(value=61300.0).as_millimeters\u001b[0m\n",
            "\u001b[1m\u001b[31mE        +      where Millimeter(value=61300.0) = Centimeter(Millimeter(value=61300.0))\u001b[0m\n",
            "\u001b[1m\u001b[31mE        +        where Millimeter(value=61300.0) = Meter(61.3)\u001b[0m\n",
            "\n",
            "\u001b[1m\u001b[31mtests_point_1.py\u001b[0m:18: AssertionError\n",
            "\u001b[31m\u001b[1m__________________________________ test_convert_inches_to_meters ___________________________________\u001b[0m\n",
            "\n",
            "    \u001b[0m\u001b[94mdef\u001b[39;49;00m \u001b[92mtest_convert_inches_to_meters\u001b[39;49;00m():\u001b[90m\u001b[39;49;00m\n",
            ">       \u001b[94massert\u001b[39;49;00m Inch(Meter(\u001b[94m47.04\u001b[39;49;00m)).as_millimeters() == \u001b[94m1194.816\u001b[39;49;00m, conversion_err\u001b[90m\u001b[39;49;00m\n",
            "\u001b[1m\u001b[31mE       AssertionError: Неверный результат конвертации\u001b[0m\n",
            "\u001b[1m\u001b[31mE       assert 1194816.0 == 1194.816\u001b[0m\n",
            "\u001b[1m\u001b[31mE        +  where 1194816.0 = as_millimeters()\u001b[0m\n",
            "\u001b[1m\u001b[31mE        +    where as_millimeters = Inch(value=47040.0).as_millimeters\u001b[0m\n",
            "\u001b[1m\u001b[31mE        +      where Inch(value=47040.0) = Inch(Millimeter(value=47040.0))\u001b[0m\n",
            "\u001b[1m\u001b[31mE        +        where Millimeter(value=47040.0) = Meter(47.04)\u001b[0m\n",
            "\n",
            "\u001b[1m\u001b[31mtests_point_1.py\u001b[0m:21: AssertionError\n",
            "\u001b[31m\u001b[1m________________________________ test_convert_millimeters_to_inches ________________________________\u001b[0m\n",
            "\n",
            "    \u001b[0m\u001b[94mdef\u001b[39;49;00m \u001b[92mtest_convert_millimeters_to_inches\u001b[39;49;00m():\u001b[90m\u001b[39;49;00m\n",
            ">       \u001b[94massert\u001b[39;49;00m Millimeter(Inch(\u001b[94m26.91\u001b[39;49;00m)).as_millimeters() == \u001b[94m26.91\u001b[39;49;00m, conversion_err\u001b[90m\u001b[39;49;00m\n",
            "\u001b[1m\u001b[31mE       AssertionError: Неверный результат конвертации\u001b[0m\n",
            "\u001b[1m\u001b[31mE       assert 683.514 == 26.91\u001b[0m\n",
            "\u001b[1m\u001b[31mE        +  where 683.514 = as_millimeters()\u001b[0m\n",
            "\u001b[1m\u001b[31mE        +    where as_millimeters = Millimeter(value=683.514).as_millimeters\u001b[0m\n",
            "\u001b[1m\u001b[31mE        +      where Millimeter(value=683.514) = Millimeter(Inch(value=683.514))\u001b[0m\n",
            "\u001b[1m\u001b[31mE        +        where Inch(value=683.514) = Inch(26.91)\u001b[0m\n",
            "\n",
            "\u001b[1m\u001b[31mtests_point_1.py\u001b[0m:24: AssertionError\n",
            "\u001b[31m\u001b[1m________________________________ test_convert_centimeters_to_inches ________________________________\u001b[0m\n",
            "\n",
            "    \u001b[0m\u001b[94mdef\u001b[39;49;00m \u001b[92mtest_convert_centimeters_to_inches\u001b[39;49;00m():\u001b[90m\u001b[39;49;00m\n",
            ">       \u001b[94massert\u001b[39;49;00m Centimeter(Inch(\u001b[94m14.27\u001b[39;49;00m)).as_millimeters() == \u001b[94m142.7\u001b[39;49;00m, conversion_err\u001b[90m\u001b[39;49;00m\n",
            "\u001b[1m\u001b[31mE       AssertionError: Неверный результат конвертации\u001b[0m\n",
            "\u001b[1m\u001b[31mE       assert 3624.58 == 142.7\u001b[0m\n",
            "\u001b[1m\u001b[31mE        +  where 3624.58 = as_millimeters()\u001b[0m\n",
            "\u001b[1m\u001b[31mE        +    where as_millimeters = Millimeter(value=362.458).as_millimeters\u001b[0m\n",
            "\u001b[1m\u001b[31mE        +      where Millimeter(value=362.458) = Centimeter(Inch(value=362.458))\u001b[0m\n",
            "\u001b[1m\u001b[31mE        +        where Inch(value=362.458) = Inch(14.27)\u001b[0m\n",
            "\n",
            "\u001b[1m\u001b[31mtests_point_1.py\u001b[0m:27: AssertionError\n",
            "\u001b[31m\u001b[1m__________________________________ test_convert_meters_to_inches ___________________________________\u001b[0m\n",
            "\n",
            "    \u001b[0m\u001b[94mdef\u001b[39;49;00m \u001b[92mtest_convert_meters_to_inches\u001b[39;49;00m():\u001b[90m\u001b[39;49;00m\n",
            ">       \u001b[94massert\u001b[39;49;00m Meter(Inch(\u001b[94m20.58\u001b[39;49;00m)).as_millimeters() == \u001b[94m20580\u001b[39;49;00m, conversion_err\u001b[90m\u001b[39;49;00m\n",
            "\u001b[1m\u001b[31mE       AssertionError: Неверный результат конвертации\u001b[0m\n",
            "\u001b[1m\u001b[31mE       assert 522732.0 == 20580\u001b[0m\n",
            "\u001b[1m\u001b[31mE        +  where 522732.0 = as_millimeters()\u001b[0m\n",
            "\u001b[1m\u001b[31mE        +    where as_millimeters = Millimeter(value=522.732).as_millimeters\u001b[0m\n",
            "\u001b[1m\u001b[31mE        +      where Millimeter(value=522.732) = Meter(Inch(value=522.732))\u001b[0m\n",
            "\u001b[1m\u001b[31mE        +        where Inch(value=522.732) = Inch(20.58)\u001b[0m\n",
            "\n",
            "\u001b[1m\u001b[31mtests_point_1.py\u001b[0m:30: AssertionError\n",
            "\u001b[36m\u001b[1m===================================== short test summary info ======================================\u001b[0m\n",
            "\u001b[31mFAILED\u001b[0m tests_point_1.py::\u001b[1mtest_convert_millimeters_to_meters\u001b[0m - AssertionError: Неверный результат конвертации\n",
            "\u001b[31mFAILED\u001b[0m tests_point_1.py::\u001b[1mtest_convert_centimeters_to_meters\u001b[0m - AssertionError: Неверный результат конвертации\n",
            "\u001b[31mFAILED\u001b[0m tests_point_1.py::\u001b[1mtest_convert_inches_to_meters\u001b[0m - AssertionError: Неверный результат конвертации\n",
            "\u001b[31mFAILED\u001b[0m tests_point_1.py::\u001b[1mtest_convert_millimeters_to_inches\u001b[0m - AssertionError: Неверный результат конвертации\n",
            "\u001b[31mFAILED\u001b[0m tests_point_1.py::\u001b[1mtest_convert_centimeters_to_inches\u001b[0m - AssertionError: Неверный результат конвертации\n",
            "\u001b[31mFAILED\u001b[0m tests_point_1.py::\u001b[1mtest_convert_meters_to_inches\u001b[0m - AssertionError: Неверный результат конвертации\n",
            "\u001b[31m=================================== \u001b[31m\u001b[1m6 failed\u001b[0m, \u001b[32m14 passed\u001b[0m\u001b[31m in 0.18s\u001b[0m\u001b[31m ===================================\u001b[0m\n"
          ]
        }
      ],
      "source": [
        "!python -m pytest -vs tests_point_1.py tests_point_2.py tests_point_3.py tests_point_4.py tests_point_5.py"
      ]
    }
  ],
  "metadata": {
    "colab": {
      "provenance": [],
      "include_colab_link": true
    },
    "kernelspec": {
      "display_name": "Python 3",
      "name": "python3"
    },
    "language_info": {
      "codemirror_mode": {
        "name": "ipython",
        "version": 3
      },
      "file_extension": ".py",
      "mimetype": "text/x-python",
      "name": "python",
      "nbconvert_exporter": "python",
      "pygments_lexer": "ipython3",
      "version": "3.8.2"
    }
  },
  "nbformat": 4,
  "nbformat_minor": 0
}